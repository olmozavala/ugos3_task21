{
 "cells": [
  {
   "cell_type": "code",
   "execution_count": 16,
   "metadata": {},
   "outputs": [
    {
     "name": "stdout",
     "output_type": "stream",
     "text": [
      "Defaulting to user installation because normal site-packages is not writeable\n",
      "Looking in indexes: https://pypi.org/simple, https://pypi.ngc.nvidia.com\n",
      "Requirement already satisfied: netCDF4 in /usr/local/lib64/python3.10/site-packages (1.6.3)\n",
      "Requirement already satisfied: cftime in /usr/local/lib64/python3.10/site-packages (from netCDF4) (1.6.2)\n",
      "Requirement already satisfied: numpy in /usr/lib64/python3.10/site-packages (from netCDF4) (1.22.0)\n"
     ]
    },
    {
     "name": "stderr",
     "output_type": "stream",
     "text": [
      "/usr/lib64/python3.10/site-packages/matplotlib/contour.py:1496: UserWarning: Warning: converting a masked element to nan.\n",
      "  self.zmin = float(z.min())\n",
      "/tmp/ipykernel_1394317/3456304280.py:47: UserWarning: WARNING: missing_value not used since it\n",
      "cannot be safely cast to variable data type\n",
      "  chl_data = chl_variable[:]\n",
      "/usr/lib64/python3.10/site-packages/cartopy/mpl/geoaxes.py:1662: UserWarning: Log scale: values of z <= 0 have been masked\n",
      "  result = super().contourf(*args, **kwargs)\n"
     ]
    },
    {
     "data": {
      "image/png": "[encoded data removed]",
      "text/plain": [
       "<Figure size 432x288 with 1 Axes>"
      ]
     },
     "metadata": {
      "needs_background": "light"
     },
     "output_type": "display_data"
    }
   ],
   "source": [
    "!pip install netCDF4  # Install netCDF4 package if not already installed\n",
    "import os\n",
    "import datetime\n",
    "import netCDF4 as nc\n",
    "import matplotlib.pyplot as plt\n",
    "import cartopy.crs as ccrs\n",
    "import matplotlib.animation as animation\n",
    "import matplotlib.colors as colors\n",
    "\n",
    "# Specify the folder path where netCDF files are located\n",
    "folder = '/nexsan/people/taylor/NEMURO_GoM/netCDF_GRIIDC/ncfiles/'\n",
    "\n",
    "# Get the list of netCDF files in the folder\n",
    "files = os.listdir(folder)\n",
    "\n",
    "def extract_date(files):\n",
    "    date_str = files.split('_')[1].split('.')[0]\n",
    "    return datetime.datetime.strptime(date_str, '%m%d%Y')\n",
    "\n",
    "sorted_file_names = sorted(files, key=extract_date)\n",
    "\n",
    "# Select the first 10 files for the animation\n",
    "files = sorted_file_names[:]\n",
    "\n",
    "# Define contour levels\n",
    "contour_levels = [1e-3, 5e-3, 1e-2, 5e-2, 1e-1, 5e-1, 1e0, 5e0, 1e1, 5e1, 1e2]\n",
    "\n",
    "# Define the contour colors using logarithmic scale\n",
    "contour_colors = colors.LogNorm(vmin=min(contour_levels), vmax=max(contour_levels))\n",
    "\n",
    "# Create the figure and axes for the plot\n",
    "fig, ax = plt.subplots(subplot_kw={'projection': ccrs.PlateCarree()}, figsize=(10, 8))\n",
    "\n",
    "# Create a colorbar axis\n",
    "cax = fig.add_axes([0.92, 0.15, 0.02, 0.7])  # Adjust the position as needed\n",
    "\n",
    "# Define a function to update the plot for each frame\n",
    "def update_plot(frame):\n",
    "    file = files[frame]\n",
    "    filepath = folder + file\n",
    "    dataset = nc.Dataset(filepath, 'r')\n",
    "\n",
    "    # Extract the chlorophyll variable\n",
    "    chl_variable = dataset.variables['CHL']\n",
    "\n",
    "    # Get the data and coordinates\n",
    "    chl_data = chl_variable[:]\n",
    "    lons = dataset.variables['XC'][:]\n",
    "    lats = dataset.variables['YC'][:]\n",
    "\n",
    "    # Clear previous plot\n",
    "    ax.clear()\n",
    "\n",
    "    # Plot the contour lines of chlorophyll data\n",
    "    ax.contour(lons, lats, chl_data[0, :, :], levels=contour_levels, colors='black', linewidths=1, transform=ccrs.PlateCarree())\n",
    "\n",
    "    # Plot filled contours with modified color scale\n",
    "    ax.contourf(lons, lats, chl_data[0, :, :], levels=contour_levels, norm=contour_colors, cmap='viridis', transform=ccrs.PlateCarree())\n",
    "\n",
    "    # Add coastlines\n",
    "    ax.coastlines()\n",
    "\n",
    "    # Add the date as a suptitle\n",
    "    date = extract_date(file).strftime('%Y-%m-%d')\n",
    "\n",
    "    # Set plot title\n",
    "    ax.set_title(f'Chlorophyll - Date: {date}', fontsize=12, y=0.92)\n",
    "\n",
    "# Create a dummy contour plot for colorbar mappable\n",
    "dummy_contour = ax.contourf([0, 0], [0, 0], [[0, 0], [0, 0]], levels=contour_levels, norm=contour_colors, cmap='viridis', transform=ccrs.PlateCarree())\n",
    "plt.close()  # Close the dummy figure\n",
    "\n",
    "# Create the animation\n",
    "ani = animation.FuncAnimation(fig, update_plot, frames=len(files), interval=150)\n",
    "\n",
    "# Add the colorbar\n",
    "cbar = plt.colorbar(dummy_contour, cax=cax, label='Chlorophyll (mg m^-3)', orientation='vertical')\n",
    "\n",
    "# Save the animation as a video file\n",
    "ani.save('chlorophyll_animation.mp4', writer='ffmpeg')\n"
   ]
  }
 ],
 "metadata": {
  "kernelspec": {
   "display_name": "myfirstkernel",
   "language": "python",
   "name": "myfirstkernel"
  },
  "language_info": {
   "codemirror_mode": {
    "name": "ipython",
    "version": 3
   },
   "file_extension": ".py",
   "mimetype": "text/x-python",
   "name": "python",
   "nbconvert_exporter": "python",
   "pygments_lexer": "ipython3",
   "version": "3.10.8"
  },
  "orig_nbformat": 4
 },
 "nbformat": 4,
 "nbformat_minor": 2
}
